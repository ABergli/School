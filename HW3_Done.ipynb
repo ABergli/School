{
 "cells": [
  {
   "cell_type": "code",
   "execution_count": 16,
   "metadata": {
    "pycharm": {
     "name": "#%%\n"
    }
   },
   "outputs": [],
   "source": [
    "#   Python Programming\n",
    "#   PGR107-1 22H HW3\n",
    "#   27th September 2022"
   ]
  },
  {
   "cell_type": "code",
   "execution_count": 17,
   "metadata": {},
   "outputs": [
    {
     "name": "stdout",
     "output_type": "stream",
     "text": [
      "the_str = Python Programming\n"
     ]
    }
   ],
   "source": [
    "#   P5.1 Strings\n",
    "#   Use the string str: \"Python Programming\" for questions 5.1.1 to 5.1.3.\n",
    "the_str = \"Python Programming\"\n",
    "print(\"the_str = \"+the_str)"
   ]
  },
  {
   "cell_type": "code",
   "execution_count": 18,
   "metadata": {},
   "outputs": [
    {
     "name": "stdout",
     "output_type": "stream",
     "text": [
      "Length of string =  18\n"
     ]
    }
   ],
   "source": [
    "#   5.1.1 Iterate the string to calculate the length of str (hint: use for loop and len()).\n",
    "str_length = 0\n",
    "for i in the_str: str_length += 1\n",
    "print(\"Length of string = \", str_length) "
   ]
  },
  {
   "cell_type": "code",
   "execution_count": 19,
   "metadata": {},
   "outputs": [
    {
     "name": "stdout",
     "output_type": "stream",
     "text": [
      "Index's of 'o's:  [4, 9]\n"
     ]
    }
   ],
   "source": [
    "#   5.1.2 String Indexing: \n",
    "#   a. Get the index number of the letter \"o\" in the string.\n",
    "index_of_o = []\n",
    "position = 0\n",
    "\n",
    "for char in the_str:\n",
    "    if char == 'o':     # char.lower()\n",
    "        index_of_o.append( position )\n",
    "    position += 1\n",
    "print(\"Index's of 'o's: \", index_of_o )"
   ]
  },
  {
   "cell_type": "code",
   "execution_count": 20,
   "metadata": {},
   "outputs": [
    {
     "name": "stdout",
     "output_type": "stream",
     "text": [
      "'Program' starts at index:  7\n"
     ]
    }
   ],
   "source": [
    "#   b. Find \"Program\" in the string segment \"Programming\".\n",
    "print(\"'Program' starts at index: \", the_str.find( \"Program\" ))"
   ]
  },
  {
   "cell_type": "code",
   "execution_count": 21,
   "metadata": {},
   "outputs": [
    {
     "name": "stdout",
     "output_type": "stream",
     "text": [
      "thon\n",
      "gnimmargorP\n",
      "Pto\n"
     ]
    }
   ],
   "source": [
    "#   5.1.3 Use slice to get the following:\n",
    "#   a. \"thon\"\n",
    "#   b. \"gnimmargorP\"\n",
    "#   c. \"Pto \"\n",
    "print( the_str[ 2:6:1 ])   # [start:stop:step]\n",
    "print( the_str[ len( the_str ):6:-1 ])\n",
    "print( the_str[ 0:5:2 ])"
   ]
  },
  {
   "cell_type": "code",
   "execution_count": 22,
   "metadata": {},
   "outputs": [
    {
     "name": "stdout",
     "output_type": "stream",
     "text": [
      "<class 'float'>\n"
     ]
    }
   ],
   "source": [
    "#   5.1.4 Create a new string and convert it to float.\n",
    "str_num = \"3.14159265359\"\n",
    "float_value = float(str_num)\n",
    "print( type( float_value ))"
   ]
  },
  {
   "cell_type": "code",
   "execution_count": 23,
   "metadata": {},
   "outputs": [
    {
     "name": "stdout",
     "output_type": "stream",
     "text": [
      "you entered: 25\n"
     ]
    }
   ],
   "source": [
    "#   5.1.5 Write a program that asks the user to enter his age and print it using the f-string method.\n",
    "age_input = input(\"Please enter your age (2):\")\n",
    "print(f\"you entered: {age_input}\")"
   ]
  },
  {
   "cell_type": "code",
   "execution_count": 24,
   "metadata": {
    "pycharm": {
     "name": "#%%\n"
    }
   },
   "outputs": [],
   "source": [
    "#   P5.2 Files and operating system\n",
    "#   5.2.1 Create a .txt file and add few lines into the file.\n",
    "import datetime\n",
    "curDT = datetime.datetime.now()\n",
    "\n",
    "f = open( \"HW3_some_textfile_output.txt\", \"w\") # write\n",
    "f.write(\"Fall has come and outside the trees are turning in to \\n\")\n",
    "f.write(\"beautifull color from yellow to dark red and brow.\\n\")\n",
    "f.close()\n",
    "\n",
    "g = open(\"HW3_some_textfile_output.txt\", \"a\") # append\n",
    "g.write(\"Almost forgot, next month is also Halloween =) \\n\")\n",
    "g.write(\"Today's date:  = %s/%s/%s\" % (curDT.day, curDT.month, curDT.year))\n",
    "g.write(\"\\n\")\n",
    "g.close()"
   ]
  },
  {
   "cell_type": "code",
   "execution_count": 25,
   "metadata": {},
   "outputs": [
    {
     "name": "stdout",
     "output_type": "stream",
     "text": [
      "1 Fall has come and outside the trees are turning in to \n",
      "\n",
      "2 beautifull color from yellow to dark red and brow.\n",
      "\n",
      "3 Almost forgot, next month is also Halloween =) \n",
      "\n",
      "4 Today's date:  = 22/10/2022\n",
      "\n"
     ]
    }
   ],
   "source": [
    "#   5.2.2 Load the .txt file\n",
    "#   5.2.3 Read the lines from the .txt file\n",
    "#   and printed with a for loop\n",
    "inFile = open(\"HW3_some_textfile_output.txt\", \"r\")\n",
    "count = 1 # for line numbers\n",
    "for line in inFile: \n",
    "    print(f\"{count} {line}\")\n",
    "    count+=1\n",
    "inFile.close()"
   ]
  }
 ],
 "metadata": {
  "kernelspec": {
   "display_name": "Python 3.9.12 ('base')",
   "language": "python",
   "name": "python3"
  },
  "language_info": {
   "codemirror_mode": {
    "name": "ipython",
    "version": 3
   },
   "file_extension": ".py",
   "mimetype": "text/x-python",
   "name": "python",
   "nbconvert_exporter": "python",
   "pygments_lexer": "ipython3",
   "version": "3.9.12"
  },
  "orig_nbformat": 4,
  "vscode": {
   "interpreter": {
    "hash": "bc6a69c5c95f7e42ae18e00d068aa35d3ddd35fc23534a0dfb9dbf2746a1628b"
   }
  }
 },
 "nbformat": 4,
 "nbformat_minor": 2
}
