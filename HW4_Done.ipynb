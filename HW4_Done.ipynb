{
 "cells": [
  {
   "cell_type": "code",
   "execution_count": 2,
   "metadata": {
    "collapsed": true
   },
   "outputs": [],
   "source": [
    "#   Python Programming\n",
    "#   PGR107-1 22H\n",
    "#   HomeWork 4\n",
    "#   11th October 2022"
   ]
  },
  {
   "cell_type": "code",
   "execution_count": 3,
   "metadata": {
    "collapsed": false
   },
   "outputs": [],
   "source": [
    "#   API imports and ref\n",
    "from numpy import array, concatenate, multiply, subtract, power, mod\n",
    "\n",
    "#   https://numpy.org/doc/stable/user/basics.broadcasting.html\n",
    "#   https://numpy.org/doc/stable/reference/ufuncs.html"
   ]
  },
  {
   "cell_type": "code",
   "execution_count": 4,
   "metadata": {
    "collapsed": false
   },
   "outputs": [
    {
     "name": "stdout",
     "output_type": "stream",
     "text": [
      "x2d:\n",
      "Dimensions:  2 \t/Shape:  (2, 2) \n",
      "Array:\n",
      " [[3 4]\n",
      " [5 6]]\n",
      "\n",
      "y2d:\n",
      "Dimensions:  2 \t/Shape:  (2, 1) \n",
      "Array:\n",
      " [[8]\n",
      " [9]]\n",
      "\n",
      " [[3 4 8]\n",
      " [5 6 9]]\n"
     ]
    }
   ],
   "source": [
    "#   P4.1 Write a program to create two arrays of shape (2,2) and (2,1) respectively \n",
    "#   containing any number of integers.\n",
    "#   Concatenate the two arrays and then split it horizontally.\n",
    "\n",
    "x2d = array( [[3, 4], [5, 6]] )\n",
    "print( \"x2d:\\nDimensions: \", x2d.ndim, \"\\t/Shape: \",x2d.shape,\"\\nArray:\\n\",x2d )\n",
    "\n",
    "y2d = array( [[8], [9]] )\n",
    "print( \"\\ny2d:\\nDimensions: \", y2d.ndim, \"\\t/Shape: \",y2d.shape,\"\\nArray:\\n\",y2d )\n",
    "\n",
    "merged = concatenate(( x2d, y2d ), axis=1)\n",
    "print(\"\\n\", merged )"
   ]
  },
  {
   "cell_type": "code",
   "execution_count": 5,
   "metadata": {
    "collapsed": false
   },
   "outputs": [],
   "source": [
    "#   P4.2 Give at least three examples along with their codes where broadcasting is not possible.\n",
    "z = array( [[4,3], [4,5], [7,8]] )\n",
    "t = array( [[2,1,2], [3,4,4]] )\n",
    "#   ValueError (3,2) + (2,3) not the same shape, they must be or one of them size 1\n",
    "#   print( z + t )\n",
    "\n",
    "a = array( ['1', '2', '3'])\n",
    "b = array( [2, 3 ])\n",
    "#   UFuncTypeError not matching types, the two arrays need to be same type\n",
    "#   print( a+b )"
   ]
  },
  {
   "cell_type": "code",
   "execution_count": 9,
   "metadata": {
    "collapsed": false
   },
   "outputs": [
    {
     "name": "stdout",
     "output_type": "stream",
     "text": [
      "sub 3 [-1  2  3  5  4]\n",
      "mul [ 0  5 12 16 21]\n",
      "pow [  1   5  36  64 343]\n",
      "mod [0 1 2 2 3]\n"
     ]
    }
   ],
   "source": [
    "#   P4.3 Create two simple arrays a and b of any number of elements. Apply universal functions (refer to lecture slide#12)\n",
    "#   on the arguments, array a and array b.\n",
    "\n",
    "a4 = array( [2, 5, 6, 8, 7] )\n",
    "b4 = array( [0, 1, 2, 2, 3] )\n",
    "\n",
    "print(\"sub 3\",  subtract( a4, 3 ))\n",
    "print(\"mul\", multiply( a4, b4 ))\n",
    "print(\"pow\", power( a4, b4 ))\n",
    "print(\"mod\", mod( b4, a4 ))"
   ]
  }
 ],
 "metadata": {
  "kernelspec": {
   "display_name": "Python 3.9.12 ('base')",
   "language": "python",
   "name": "python3"
  },
  "language_info": {
   "codemirror_mode": {
    "name": "ipython",
    "version": 3
   },
   "file_extension": ".py",
   "mimetype": "text/x-python",
   "name": "python",
   "nbconvert_exporter": "python",
   "pygments_lexer": "ipython3",
   "version": "3.9.12"
  },
  "vscode": {
   "interpreter": {
    "hash": "bc6a69c5c95f7e42ae18e00d068aa35d3ddd35fc23534a0dfb9dbf2746a1628b"
   }
  }
 },
 "nbformat": 4,
 "nbformat_minor": 0
}
