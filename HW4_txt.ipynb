{
 "cells": [
  {
   "cell_type": "markdown",
   "id": "8cc4639a",
   "metadata": {
    "pycharm": {
     "name": "#%% md\n"
    }
   },
   "source": [
    "# KUC, PGR107\n",
    "# HW4\n"
   ]
  },
  {
   "cell_type": "markdown",
   "id": "e1e40774",
   "metadata": {
    "pycharm": {
     "name": "#%% md\n"
    }
   },
   "source": [
    "## There are three tasks and should be finished and submitted through groups.\n",
    "## Each group is suggested to have 1-5 members.\n",
    "## In the submission, please include your implementation (executable code) as .ipynb document.\n",
    "## List your group name and group member information in the top (written in comments).\n"
   ]
  },
  {
   "cell_type": "markdown",
   "id": "7278ee5c",
   "metadata": {
    "pycharm": {
     "name": "#%% md\n"
    }
   },
   "source": [
    "### P4.1 Write a program to create two arrays of shape (2,2) and (2,1) respectively containing any number of integers. Concatenat the two arrays and then split it horizontally. "
   ]
  },
  {
   "cell_type": "markdown",
   "id": "95f347c9",
   "metadata": {
    "pycharm": {
     "name": "#%% md\n"
    }
   },
   "source": [
    "### P4.2 Give at least three examples along with their codes where broadcasting is not possible."
   ]
  },
  {
   "cell_type": "markdown",
   "id": "408e5534",
   "metadata": {
    "pycharm": {
     "name": "#%% md\n"
    }
   },
   "source": [
    "### P4.3 Create two simple arrays a and b of any number of elements. Apply universal functions (refer to lecture slide#12) on the arguments, array a and array b."
   ]
  }
 ],
 "metadata": {
  "kernelspec": {
   "display_name": "Python 3 (ipykernel)",
   "language": "python",
   "name": "python3"
  },
  "language_info": {
   "codemirror_mode": {
    "name": "ipython",
    "version": 3
   },
   "file_extension": ".py",
   "mimetype": "text/x-python",
   "name": "python",
   "nbconvert_exporter": "python",
   "pygments_lexer": "ipython3",
   "version": "3.9.12"
  }
 },
 "nbformat": 4,
 "nbformat_minor": 5
}
