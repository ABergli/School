{
 "cells": [
  {
   "cell_type": "code",
   "execution_count": 1,
   "metadata": {
    "collapsed": false,
    "pycharm": {
     "is_executing": true,
     "name": "#%%\n"
    }
   },
   "outputs": [
    {
     "name": "stdout",
     "output_type": "stream",
     "text": [
      "[450 350   0  30]\n"
     ]
    }
   ],
   "source": [
    "import numpy as np\n",
    "\n",
    "a = np.array([5, 7, 3, 1])\n",
    "b = np.array([90, 50, 0, 30])\n",
    "\n",
    "# array are compatible because of same Dimension\n",
    "c = a * b\n",
    "print (c)"
   ]
  },
  {
   "cell_type": "code",
   "execution_count": 2,
   "metadata": {
    "collapsed": false,
    "pycharm": {
     "name": "#%%\n"
    }
   },
   "outputs": [
    {
     "name": "stdout",
     "output_type": "stream",
     "text": [
      "a is between 10 and 100.\n"
     ]
    }
   ],
   "source": [
    "# Task P3.1\n",
    "#   a = 15\n",
    "#   if a > 0:\n",
    "#       print('a is larger than 100.')\n",
    "#   elif a > 10:\n",
    "#       print('a is between 10 and 100.')\n",
    "#   elif a > 100:\n",
    "#       print(' a is between 0 and 10')\n",
    "#   else:\n",
    "#       print('a is 0 or negative.')\n",
    "\n",
    "# Steps to make the code logic:\n",
    "# 1) if a > 0:      -> if a > 100          \n",
    "# 2) elif a > 10:   -> elif 10 < a < 100    #alt: if a > 10 & a < 100\n",
    "# 3) elif a > 100:  -> elif 0 < a < 10      #alt: if a > 0  & a < 10\n",
    "a = 15\n",
    "if a > 100:\n",
    "    print('a is larger than 100.')\n",
    "elif 10 < a < 100:      # alt:  a > 10 & a < 100\n",
    "    print('a is between 10 and 100.')\n",
    "elif 0 < a < 10:        # alt:  a > 0 & a < 10\n",
    "    print(' a is between 0 and 10')\n",
    "else:\n",
    "    print('a is 0 or negative.')"
   ]
  },
  {
   "cell_type": "code",
   "execution_count": 3,
   "metadata": {
    "collapsed": false,
    "pycharm": {
     "name": "#%%\n"
    }
   },
   "outputs": [
    {
     "name": "stdout",
     "output_type": "stream",
     "text": [
      "a is bigger than b\n",
      "a is bigger than b\n",
      "11\n"
     ]
    }
   ],
   "source": [
    "# Task P3.2\n",
    "\n",
    "x = 11\n",
    "y = 9\n",
    "z = 7\n",
    "# function that takes 2 numbers as parameters, and returns the biggest number.\n",
    "# if the two numbers are equal, it returns the first number (a)\n",
    "def compareTwoNumbers( a, b ):\n",
    "    if a > b:   print('a is bigger than b'); return a;\n",
    "    elif b > a: print('b is bigger than a'); return b;\n",
    "    else:       print('a and b are equal');  return a; # if equal return a\n",
    "\n",
    "r = compareTwoNumbers(compareTwoNumbers(x, y), z)\n",
    "print(r)"
   ]
  },
  {
   "cell_type": "code",
   "execution_count": 4,
   "metadata": {
    "collapsed": false,
    "pycharm": {
     "name": "#%%\n"
    }
   },
   "outputs": [
    {
     "name": "stdout",
     "output_type": "stream",
     "text": [
      "length:  3\n",
      "GroupD\n",
      "5\n",
      "4\n",
      "3\n",
      "1\n",
      "2\n",
      "Jeep\n",
      "3\n",
      "None\n"
     ]
    }
   ],
   "source": [
    "# Task P3.3.1\n",
    "\n",
    "t = tuple(['GroupD', [5,4,[3,1]], [2, 'Jeep', 3]])\n",
    "# t[0] = 'GroupD'\n",
    "# t[1] = 5,4,[3,1]\n",
    "# t[2] = 2, 'Jeep', 3\n",
    "\n",
    "print(f'length: ',len(t)) #P3.3.2\n",
    "\n",
    "groupName = t[0];               print(groupName)\n",
    "month1 = t[1][0];               print(month1)\n",
    "month2 = t[1][1];               print(month2)\n",
    "x = t[1][2][0];                 print(x)\n",
    "y = t[1][2][1];                 print(y)\n",
    "numTeacherAssistants = t[2][0]; print(numTeacherAssistants)\n",
    "carType = t[2][1];              print(carType)\n",
    "oneTwo_then_ = t[2][2];         print(oneTwo_then_)\n",
    "\n",
    "# change value in tuple values, ok\n",
    "#t[2][1] = 'Coupe';              print(t[2][1])\n",
    "#t[2][0] = 1;                    print(t[2][0])\n",
    "\n",
    "# delete? set to None ok but can't remove it's existence\n",
    "t[1][0] = None; print(t[1][0])\n",
    "#t.remove([1][0]) no remove function in Tuple\n",
    "#Tuples can't be removed because tuples are immutable."
   ]
  }
 ],
 "metadata": {
  "kernelspec": {
   "display_name": "Python 3.9.12 ('base')",
   "language": "python",
   "name": "python3"
  },
  "language_info": {
   "codemirror_mode": {
    "name": "ipython",
    "version": 3
   },
   "file_extension": ".py",
   "mimetype": "text/x-python",
   "name": "python",
   "nbconvert_exporter": "python",
   "pygments_lexer": "ipython3",
   "version": "3.9.12"
  },
  "vscode": {
   "interpreter": {
    "hash": "bc6a69c5c95f7e42ae18e00d068aa35d3ddd35fc23534a0dfb9dbf2746a1628b"
   }
  }
 },
 "nbformat": 4,
 "nbformat_minor": 0
}
