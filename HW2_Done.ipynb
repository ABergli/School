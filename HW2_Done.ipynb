{
 "cells": [
  {
   "cell_type": "code",
   "execution_count": null,
   "metadata": {},
   "outputs": [],
   "source": [
    "#   Python Programming\n",
    "#   PGR107-1 22H HW2\n",
    "#   20th Sep 2022"
   ]
  },
  {
   "cell_type": "code",
   "execution_count": null,
   "metadata": {},
   "outputs": [],
   "source": [
    "#   P4.1 Tuple\n",
    "#   Create a tuple A: all of the elements are string type.\n",
    "str_t = tuple(['Monday', 'Tuesday', 'Wednesday', 'Thursday', 'Friday'])\n",
    "\n",
    "#   Create a tuple B: all of the elements are int type.\n",
    "int_t = tuple([2, 3, 4, 5, 7, 11, 53, 23, 22])\n",
    "\n",
    "#   Then perform the following:\n",
    "#   4.1.1 Output the length of the tuple A.\n",
    "print(\"length: \",len(str_t), \"\\n\")"
   ]
  },
  {
   "cell_type": "code",
   "execution_count": null,
   "metadata": {},
   "outputs": [],
   "source": [
    "#   4.1.2 Using slicing to extract the elements from the last to the second location.\n",
    "print( str_t[ len(str_t) : 0 : -1 ] , \"\\n\")"
   ]
  },
  {
   "cell_type": "code",
   "execution_count": null,
   "metadata": {},
   "outputs": [],
   "source": [
    "#   4.1.3 Create a tuple C by combining A, B.\n",
    "tup_c = str_t, int_t\n",
    "print(tup_c, \"\\n\")"
   ]
  },
  {
   "cell_type": "code",
   "execution_count": null,
   "metadata": {},
   "outputs": [],
   "source": [
    "#   4.1.4 Create a list D by Combining A, B.\n",
    "list_d = [str_t, int_t]\n",
    "print(list_d, \"\\n\")"
   ]
  },
  {
   "cell_type": "code",
   "execution_count": null,
   "metadata": {},
   "outputs": [],
   "source": [
    "#   4.1.5 Create a dictionary E, by combining tuple A and B (hint: using zip)\n",
    "dict_e = dict(zip( str_t, int_t )) #str_t = keys, int_t = values\n",
    "for k,v in dict_e.items():\n",
    "    print(\"key/value: \", k,\"/\",v)"
   ]
  },
  {
   "cell_type": "code",
   "execution_count": null,
   "metadata": {},
   "outputs": [],
   "source": [
    "#   P4.2 List\n",
    "#   P4.2.1 There is a list str_1 = ['Thank']. \n",
    "#   Add 'You' after the '' in str_1 and output str_1.\n",
    "str_1 = ['Thank']\n",
    "str_1.append('you')\n",
    "print(str_1, \"\\n\")\n"
   ]
  },
  {
   "cell_type": "code",
   "execution_count": null,
   "metadata": {},
   "outputs": [],
   "source": [
    "#   P4.2.2 There is a list str_2 = ['Thank', 'you', 'much']. \n",
    "#   Add 'so' after 'you' in str_2 to output greetin_2.\n",
    "str_2 = ['Thank', 'you', 'much']\n",
    "str_2.insert(2, 'so')\n",
    "print(str_2, \"\\n\")"
   ]
  },
  {
   "cell_type": "code",
   "execution_count": null,
   "metadata": {},
   "outputs": [],
   "source": [
    "#   P4.2.3 There is a list str_3 = ['Thank', 'you', 'so', 'very', 'much'].\n",
    "#   Remove the element 'very.' from str_3 and output str_3.\n",
    "str_3 = ['Thank', 'you', 'so', 'very', 'much']\n",
    "str_3.pop(3) # by index\n",
    "#str_3.remove('very') # by element \n",
    "print(str_3, \"\\n\")"
   ]
  },
  {
   "cell_type": "code",
   "execution_count": null,
   "metadata": {},
   "outputs": [],
   "source": [
    "#   P4.3 Dictionary\n",
    "#   P4.3.1 Show the list of keys in the vegetable_dict.\n",
    "vegetable_dict = {'Tomato':40, 'Carrot':20, 'Eggplant':50, 'Onion':30, 'Potato':35}\n",
    "\n",
    "key_li = vegetable_dict.keys()\n",
    "print(key_li, \"\\n\")"
   ]
  },
  {
   "cell_type": "code",
   "execution_count": null,
   "metadata": {},
   "outputs": [],
   "source": [
    "#   P4.3.2 Calculate and output the average value of vegetable_dict.\n",
    "tot_v = 0\n",
    "for k,v in vegetable_dict.items():\n",
    "    tot_v += v\n",
    "print(\"Average value is: \", tot_v/ len( vegetable_dict ))"
   ]
  }
 ],
 "metadata": {
  "kernelspec": {
   "display_name": "Python 3.10.6 64-bit",
   "language": "python",
   "name": "python3"
  },
  "language_info": {
   "codemirror_mode": {
    "name": "ipython",
    "version": 3
   },
   "file_extension": ".py",
   "mimetype": "text/x-python",
   "name": "python",
   "nbconvert_exporter": "python",
   "pygments_lexer": "ipython3",
   "version": "3.10.6"
  },
  "orig_nbformat": 4,
  "vscode": {
   "interpreter": {
    "hash": "7a649c1af79771fda92f84feedaada1a9688ccfdcfc31db369815379ffad9ed0"
   }
  }
 },
 "nbformat": 4,
 "nbformat_minor": 2
}
