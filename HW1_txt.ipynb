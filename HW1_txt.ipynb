{
 "cells": [
  {
   "cell_type": "markdown",
   "source": [
    "# KUC, PGR107\n",
    "# HW1\n"
   ],
   "metadata": {
    "collapsed": false,
    "pycharm": {
     "name": "#%% md\n"
    }
   }
  },
  {
   "cell_type": "markdown",
   "source": [
    "## There are three tasks and should be finished and submitted through groups.\n",
    "## Each group is suggested to have 1-5 members.\n",
    "## In the submission, please include your implementation (executable code) as .ipynb document.\n",
    "## List your group name and group member information in the top (written in comments).\n"
   ],
   "metadata": {
    "collapsed": false,
    "pycharm": {
     "name": "#%% md\n"
    }
   }
  },
  {
   "cell_type": "markdown",
   "source": [
    "### P3.1 Please change the following code to make it logically correct."
   ],
   "metadata": {
    "collapsed": false,
    "pycharm": {
     "name": "#%% md\n"
    }
   }
  },
  {
   "cell_type": "code",
   "execution_count": null,
   "outputs": [],
   "source": [
    "a = 15\n",
    "if a > 0:\n",
    "    print('a is larger than 100.')\n",
    "elif a > 10:\n",
    "    print('a is between 10 and 100.')\n",
    "elif a > 100:\n",
    "    print(' a is between 0 and 10')\n",
    "else:\n",
    "    print('a is 0 or negative.')\n",
    "\n"
   ],
   "metadata": {
    "collapsed": false,
    "pycharm": {
     "name": "#%%\n"
    }
   }
  },
  {
   "cell_type": "markdown",
   "source": [
    "### P3.2 Use if-elif-else structure to implement the following functions"
   ],
   "metadata": {
    "collapsed": false,
    "pycharm": {
     "name": "#%% md\n"
    }
   }
  },
  {
   "cell_type": "markdown",
   "source": [
    "#### P3.2.1 Two variables a and b, implement a function called compareTwoVariables(a,b) using if-elif-else to determine if a is less or equal or larger than b.\n",
    "\n",
    "#### P3.2.2 Assign a=10, b=17, call the function compareTwoVariables() to get correct output information\n",
    "\n",
    "#### P3.2.3 assign random values to variables x , y and z. Find the largest number among the three variables by calling the function compareTwoVariables().\n"
   ],
   "metadata": {
    "collapsed": false,
    "pycharm": {
     "name": "#%% md\n"
    }
   }
  },
  {
   "cell_type": "markdown",
   "source": [
    "### P3.3 Tuple\n",
    "\n",
    "#### P3.3.1 Create a tuple containing different data types.\n",
    "#### P3.3.2 Write a program to create a tuple with any number of integer values. Then\n",
    "- Find the length of the tuple.\n",
    "- Unpack the tuple in variables.\n",
    "- Try to remove an item from the tuple.\n",
    "\n",
    "\n"
   ],
   "metadata": {
    "collapsed": false,
    "pycharm": {
     "name": "#%% md\n"
    }
   }
  }
 ],
 "metadata": {
  "kernelspec": {
   "display_name": "Python 3 (ipykernel)",
   "language": "python",
   "name": "python3"
  },
  "language_info": {
   "codemirror_mode": {
    "name": "ipython",
    "version": 3
   },
   "file_extension": ".py",
   "mimetype": "text/x-python",
   "name": "python",
   "nbconvert_exporter": "python",
   "pygments_lexer": "ipython3",
   "version": "3.9.12"
  }
 },
 "nbformat": 4,
 "nbformat_minor": 5
}